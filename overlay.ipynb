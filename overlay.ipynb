{
  "nbformat": 4,
  "nbformat_minor": 0,
  "metadata": {
    "colab": {
      "name": "overlay.ipynb",
      "provenance": [],
      "collapsed_sections": [],
      "mount_file_id": "1ttm65K24UV_PAqjfK5CMAYl3OYgREMqv",
      "authorship_tag": "ABX9TyPnLCJWTGKCvNlOosDx9Xkg",
      "include_colab_link": true
    },
    "kernelspec": {
      "name": "python3",
      "display_name": "Python 3"
    },
    "language_info": {
      "name": "python"
    }
  },
  "cells": [
    {
      "cell_type": "markdown",
      "metadata": {
        "id": "view-in-github",
        "colab_type": "text"
      },
      "source": [
        "<a href=\"https://colab.research.google.com/github/shamim237/Cavity_U-net/blob/main/overlay.ipynb\" target=\"_parent\"><img src=\"https://colab.research.google.com/assets/colab-badge.svg\" alt=\"Open In Colab\"/></a>"
      ]
    },
    {
      "cell_type": "code",
      "metadata": {
        "id": "Rnhp2tdwopcM"
      },
      "source": [
        "import os\n",
        "import random\n",
        "import numpy as np\n",
        "import cv2 \n",
        "import glob\n",
        "from skimage.io import imread, imshow\n",
        "import matplotlib.pyplot as plt"
      ],
      "execution_count": null,
      "outputs": []
    },
    {
      "cell_type": "code",
      "metadata": {
        "id": "npAigVXHovfJ"
      },
      "source": [
        "# \"Apply Canny Edge detection method to detect only the edge of the masks\"\n",
        "\n",
        "# path2 = r'/content/drive/MyDrive/Cavity Project/Dataset/Pred_mask(org_shape)/*.*'\n",
        "\n",
        "# for bb,file in enumerate (glob.glob(path2)):\n",
        "#   img = cv2.imread(file)\n",
        "#   edges = cv2.Canny(img,200,255)\n",
        "#   rgb = cv2.cvtColor(edges, cv2.COLOR_GRAY2RGB)\n",
        "#   rgb *= np.array((0,0,1),np.uint8) \n",
        "#   cv2.imwrite('/content/drive/MyDrive/Cavity Project/Dataset/edge_img(mask)/{}.png'.format(bb), rgb)"
      ],
      "execution_count": null,
      "outputs": []
    },
    {
      "cell_type": "code",
      "metadata": {
        "id": "yOoDOJwroviQ"
      },
      "source": [
        "#!unzip '/content/drive/MyDrive/Cavity Project/Zip Files/Overlay.zip' -d '/content/drive/MyDrive/Cavity Project'"
      ],
      "execution_count": null,
      "outputs": []
    },
    {
      "cell_type": "code",
      "metadata": {
        "id": "hwiwvHFyovlJ"
      },
      "source": [
        "\"Overlay the edge of the predicted masks to the original test images\"\n",
        "\n",
        "\n",
        "img = cv2.imread('/content/drive/MyDrive/Cavity Project/Dataset/Overlay/test_img/030.png')\n",
        "mask = cv2.imread('/content/drive/MyDrive/Cavity Project/Dataset/Overlay/edge_mask/030.png',cv2.IMREAD_UNCHANGED)\n",
        "\n",
        "kernel = np.ones((4,4),np.uint8) #to make thicker the edges use this line of codes\n",
        "img2 = cv2.dilate(mask, kernel,iterations = 1)\n",
        "\n",
        "dst = cv2.bitwise_or(img,img2)\n",
        "cv2.imwrite('O303.png', dst)\n",
        "plt.imshow(dst)"
      ],
      "execution_count": null,
      "outputs": []
    }
  ]
}